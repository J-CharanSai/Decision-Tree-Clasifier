{
 "cells": [
  {
   "cell_type": "code",
   "execution_count": 96,
   "metadata": {
    "id": "u3MWxzqB7YmV"
   },
   "outputs": [],
   "source": [
    "import numpy as np \n",
    "import pandas as pd\n",
    "import sklearn.datasets\n",
    "from sklearn.model_selection import train_test_split\n",
    "import random\n",
    "import matplotlib.pyplot as plt\n",
    "from sklearn.metrics import accuracy_score\n",
    "from sklearn.preprocessing import StandardScaler, MinMaxScaler\n",
    "from sklearn.tree import DecisionTreeClassifier \n",
    "from sklearn import metrics\n",
    "import math\n",
    "import graphviz\n",
    "from copy import deepcopy\n",
    "from tqdm import tqdm_notebook"
   ]
  },
  {
   "cell_type": "code",
   "execution_count": 97,
   "metadata": {
    "id": "vmexqZYt7oXf"
   },
   "outputs": [],
   "source": [
    "data = pd.read_csv('bupa.csv')\n",
    "data['drinks'] = (data['drinks'] > 5).astype(int)"
   ]
  },
  {
   "cell_type": "code",
   "execution_count": 98,
   "metadata": {
    "colab": {
     "base_uri": "https://localhost:8080/",
     "height": 423
    },
    "id": "e2W423eJ7sEa",
    "outputId": "fea5edf8-d046-47ab-f5a5-6855b88bb249"
   },
   "outputs": [
    {
     "data": {
      "text/html": [
       "<div>\n",
       "<style scoped>\n",
       "    .dataframe tbody tr th:only-of-type {\n",
       "        vertical-align: middle;\n",
       "    }\n",
       "\n",
       "    .dataframe tbody tr th {\n",
       "        vertical-align: top;\n",
       "    }\n",
       "\n",
       "    .dataframe thead th {\n",
       "        text-align: right;\n",
       "    }\n",
       "</style>\n",
       "<table border=\"1\" class=\"dataframe\">\n",
       "  <thead>\n",
       "    <tr style=\"text-align: right;\">\n",
       "      <th></th>\n",
       "      <th>mcv</th>\n",
       "      <th>alkphos</th>\n",
       "      <th>sgpt</th>\n",
       "      <th>sgot</th>\n",
       "      <th>gammagt</th>\n",
       "      <th>drinks</th>\n",
       "    </tr>\n",
       "  </thead>\n",
       "  <tbody>\n",
       "    <tr>\n",
       "      <th>0</th>\n",
       "      <td>85</td>\n",
       "      <td>92</td>\n",
       "      <td>45</td>\n",
       "      <td>27</td>\n",
       "      <td>31</td>\n",
       "      <td>0</td>\n",
       "    </tr>\n",
       "    <tr>\n",
       "      <th>1</th>\n",
       "      <td>85</td>\n",
       "      <td>64</td>\n",
       "      <td>59</td>\n",
       "      <td>32</td>\n",
       "      <td>23</td>\n",
       "      <td>0</td>\n",
       "    </tr>\n",
       "    <tr>\n",
       "      <th>2</th>\n",
       "      <td>86</td>\n",
       "      <td>54</td>\n",
       "      <td>33</td>\n",
       "      <td>16</td>\n",
       "      <td>54</td>\n",
       "      <td>0</td>\n",
       "    </tr>\n",
       "    <tr>\n",
       "      <th>3</th>\n",
       "      <td>91</td>\n",
       "      <td>78</td>\n",
       "      <td>34</td>\n",
       "      <td>24</td>\n",
       "      <td>36</td>\n",
       "      <td>0</td>\n",
       "    </tr>\n",
       "    <tr>\n",
       "      <th>4</th>\n",
       "      <td>87</td>\n",
       "      <td>70</td>\n",
       "      <td>12</td>\n",
       "      <td>28</td>\n",
       "      <td>10</td>\n",
       "      <td>0</td>\n",
       "    </tr>\n",
       "    <tr>\n",
       "      <th>...</th>\n",
       "      <td>...</td>\n",
       "      <td>...</td>\n",
       "      <td>...</td>\n",
       "      <td>...</td>\n",
       "      <td>...</td>\n",
       "      <td>...</td>\n",
       "    </tr>\n",
       "    <tr>\n",
       "      <th>336</th>\n",
       "      <td>99</td>\n",
       "      <td>75</td>\n",
       "      <td>26</td>\n",
       "      <td>24</td>\n",
       "      <td>41</td>\n",
       "      <td>1</td>\n",
       "    </tr>\n",
       "    <tr>\n",
       "      <th>337</th>\n",
       "      <td>96</td>\n",
       "      <td>69</td>\n",
       "      <td>53</td>\n",
       "      <td>43</td>\n",
       "      <td>203</td>\n",
       "      <td>1</td>\n",
       "    </tr>\n",
       "    <tr>\n",
       "      <th>338</th>\n",
       "      <td>98</td>\n",
       "      <td>77</td>\n",
       "      <td>55</td>\n",
       "      <td>35</td>\n",
       "      <td>89</td>\n",
       "      <td>1</td>\n",
       "    </tr>\n",
       "    <tr>\n",
       "      <th>339</th>\n",
       "      <td>91</td>\n",
       "      <td>68</td>\n",
       "      <td>27</td>\n",
       "      <td>26</td>\n",
       "      <td>14</td>\n",
       "      <td>1</td>\n",
       "    </tr>\n",
       "    <tr>\n",
       "      <th>340</th>\n",
       "      <td>98</td>\n",
       "      <td>99</td>\n",
       "      <td>57</td>\n",
       "      <td>45</td>\n",
       "      <td>65</td>\n",
       "      <td>1</td>\n",
       "    </tr>\n",
       "  </tbody>\n",
       "</table>\n",
       "<p>341 rows × 6 columns</p>\n",
       "</div>"
      ],
      "text/plain": [
       "     mcv  alkphos  sgpt  sgot  gammagt  drinks\n",
       "0     85       92    45    27       31       0\n",
       "1     85       64    59    32       23       0\n",
       "2     86       54    33    16       54       0\n",
       "3     91       78    34    24       36       0\n",
       "4     87       70    12    28       10       0\n",
       "..   ...      ...   ...   ...      ...     ...\n",
       "336   99       75    26    24       41       1\n",
       "337   96       69    53    43      203       1\n",
       "338   98       77    55    35       89       1\n",
       "339   91       68    27    26       14       1\n",
       "340   98       99    57    45       65       1\n",
       "\n",
       "[341 rows x 6 columns]"
      ]
     },
     "execution_count": 98,
     "metadata": {},
     "output_type": "execute_result"
    }
   ],
   "source": [
    "data"
   ]
  },
  {
   "cell_type": "code",
   "execution_count": 99,
   "metadata": {
    "id": "B4zb6k137srB"
   },
   "outputs": [],
   "source": [
    "X = data.drop('drinks',axis = 1)\n",
    "Y = data['drinks']"
   ]
  },
  {
   "cell_type": "code",
   "execution_count": 100,
   "metadata": {
    "id": "gSwgqYFF7uhZ"
   },
   "outputs": [],
   "source": [
    "X_TRAIN = []\n",
    "Y_TRAIN = []\n",
    "X_TEST = []\n",
    "Y_TEST = []\n",
    "for i in range(10):\n",
    "  X_train,X_test,Y_train,Y_test =train_test_split(X,Y,test_size = 0.2,stratify = Y)\n",
    "  X_TRAIN.append(X_train)\n",
    "  Y_TRAIN.append(Y_train)\n",
    "  X_TEST.append(X_test)\n",
    "  Y_TEST.append(Y_test)"
   ]
  },
  {
   "cell_type": "code",
   "execution_count": 101,
   "metadata": {
    "id": "zoj6Japr7v4-"
   },
   "outputs": [],
   "source": [
    "class Node:\n",
    "   def __init__(self, val, name = \"\", gini = None, gain = None, res = None ):\n",
    "      self.left = None\n",
    "      self.right = None\n",
    "      self.data = val\n",
    "      self.name = name \n",
    "      self.gini = gini \n",
    "      self.gain = gain\n",
    "      self.res = res"
   ]
  },
  {
   "cell_type": "code",
   "execution_count": 102,
   "metadata": {
    "id": "GwvpI0h57xGE"
   },
   "outputs": [],
   "source": [
    "class DTCla:\n",
    "\n",
    "  def __init__(self):\n",
    "    self.Tree = None\n",
    "  \n",
    "  def entropy(self, x, y):\n",
    "    p0 = 0\n",
    "    p1 = 0\n",
    "    for y1 in y:\n",
    "      if y1 == 1:\n",
    "        p1 += 1\n",
    "      else:\n",
    "        p0 += 1\n",
    "    p0 = p0/len(y)*1.0\n",
    "    p1 = p1/len(y)*1.0\n",
    "    e = -1.0*p1*math.log2(p1)-1.0*p2*math.log(p2)\n",
    "    return e\n",
    "  \n",
    "  def InfoGain(self, x_train, y_train):\n",
    "    ones = 0\n",
    "    zeros = 0\n",
    "    for y in y_train:\n",
    "      if y == 1:\n",
    "        ones += 1\n",
    "      else:\n",
    "        zeros += 1\n",
    "    if ones == 0 or zeros == 0:\n",
    "      return [None,1.0,None]\n",
    "    names = list(x_train.columns)\n",
    "    XX = []\n",
    "    YY = []\n",
    "    Z = 0\n",
    "    O = 0\n",
    "    for yt in y_train:\n",
    "      if yt == 1:\n",
    "        O += 1\n",
    "      else:\n",
    "        Z += 1\n",
    "    Z = 1.0*Z/len(y_train)\n",
    "    O = 1.0*O/len(y_train)\n",
    "    if Z == 0 or O == 0:\n",
    "      E_S = 0\n",
    "    else:\n",
    "      E_S = -Z*math.log2(Z)-O*math.log2(O)\n",
    "    for c in names:\n",
    "      X = []\n",
    "      Y = []\n",
    "      x = x_train\n",
    "      x = x.join(y_train)\n",
    "      ma = int(x[c].max())\n",
    "      mi = int(x[c].min())\n",
    "      arr = np.linspace(mi,ma,100).tolist()\n",
    "      for i in arr:\n",
    "        g = 0\n",
    "        L = x[x[c] <= i]\n",
    "        R = x[x[c] > i]\n",
    "        L1 = 0\n",
    "        L2 = 0\n",
    "        R1 = 0\n",
    "        R2 = 0\n",
    "        for l in L['drinks']:\n",
    "          if l == 0:\n",
    "            L1 += 1\n",
    "          else:\n",
    "            L2 += 1\n",
    "        for r in R['drinks']:\n",
    "          if r == 0:\n",
    "            R1 += 1\n",
    "          else:\n",
    "            R2 += 1\n",
    "        if L1+L2 == 0 or R1+R2 == 0:\n",
    "          continue\n",
    "        Pl1 = L1/(L1+L2)*1.0\n",
    "        Pl2 = L2/(L1+L2)*1.0\n",
    "        PR1 = R1/(R1+R2)*1.0\n",
    "        PR2 = R2/(R1+R2)*1.0\n",
    "\n",
    "        if Pl1 == 0 or Pl2 == 0:\n",
    "          El = 0\n",
    "        else:\n",
    "          El = (-1.0*Pl1*(math.log2(Pl1)))+(-1.0*Pl2*(math.log2(Pl2)))\n",
    "        if PR1 == 0 or PR2 == 0:\n",
    "          Er = 0\n",
    "        else:\n",
    "          Er = (-1.0*PR1*(math.log2(PR1)))+(-1.0*PR2*(math.log2(PR2)))\n",
    "        \n",
    "        El *= 1.0*(L1+L2)/341\n",
    "\n",
    "        Er *= 1.0*(R1+R2)/341\n",
    "\n",
    "        G = E_S - El - Er\n",
    "        X.append(i)\n",
    "        Y.append(G)\n",
    "      XX.append(X)\n",
    "      YY.append(Y)\n",
    "    maxi = [] \n",
    "    gini = []\n",
    "    # print(len(y_train),YY)\n",
    "    for i in range(len(names)):\n",
    "      X =XX[i]\n",
    "      Y= YY[i]\n",
    "      if len(Y) == 0:\n",
    "        continue\n",
    "      m = Y[0]\n",
    "      if len(X) == 0 or len(Y) == 0:\n",
    "        continue\n",
    "      x = 0\n",
    "      for j in range(len(Y)):\n",
    "        if m < Y[j]:\n",
    "          m = Y[j]\n",
    "          x = j\n",
    "      maxi.append([X[x],Y[x],names[i]])\n",
    "      gini.append(Y[x])\n",
    "    m = maxi[0]\n",
    "    for x in maxi:\n",
    "      if m[1] < x[1]:\n",
    "        m = x\n",
    "    return m\n",
    "\n",
    "  def Gini(self, x_train, y_train):\n",
    "    ones = 0\n",
    "    zeros = 0\n",
    "    for y in y_train:\n",
    "      if y == 1:\n",
    "        ones += 1\n",
    "      else:\n",
    "        zeros += 1\n",
    "    if ones == 0 or zeros == 0:\n",
    "      return [None,0.0,None]\n",
    "      \n",
    "    names = list(x_train.columns)\n",
    "    XX = []\n",
    "    YY = []\n",
    "    for c in names:\n",
    "      X = []\n",
    "      Y = []\n",
    "      x = x_train\n",
    "      y = y_train\n",
    "      ma = int(x[c].max())\n",
    "      mi = int(x[c].min())\n",
    "      arr = np.linspace(mi,ma,100).tolist()\n",
    "      for i in arr:\n",
    "        L1 = 0\n",
    "        L2 = 0\n",
    "        R1 = 0\n",
    "        R2 = 0\n",
    "        for x1,y1 in zip(x[c],y):\n",
    "          if y1 == 0:\n",
    "            if x1 <= i:\n",
    "              L1 += 1\n",
    "            else:\n",
    "              R1 += 1\n",
    "          else:\n",
    "            if x1 <= i:\n",
    "              L2 += 1\n",
    "            else:\n",
    "              R2 += 1\n",
    "        if L1+L2 == 0 or R1+R2 == 0:\n",
    "          continue\n",
    "        Pl1 = L1/(L1+L2)*1.0\n",
    "        Pl2 = L2/(L1+L2)*1.0\n",
    "        PR1 = R1/(R1+R2)*1.0\n",
    "        PR2 = R2/(R1+R2)*1.0\n",
    "\n",
    "        Pl = (L1+L2)/(L1+L2+R1+R2)*1.0\n",
    "        Pr = (R1+R2)/(L1+L2+R1+R2)*1.0\n",
    "\n",
    "        G = Pl*((Pl1*(1-Pl1))+(Pl2*(1-Pl2))) + Pr*((PR1*(1-PR1))+(PR2*(1-PR2)))\n",
    "        X.append(i)\n",
    "        Y.append(G)\n",
    "      XX.append(X)\n",
    "      YY.append(Y)\n",
    "    maxi = [] \n",
    "    gini = []\n",
    "    # print(len(y_train))\n",
    "    for i in range(len(names)):\n",
    "      X =XX[i]\n",
    "      Y= YY[i]\n",
    "      if len(X) == 0 or len(Y) == 0:\n",
    "        continue\n",
    "      m = Y[0]\n",
    "      x = 0\n",
    "      for j in range(len(Y)):\n",
    "        if m > Y[j]:\n",
    "          m = Y[j]\n",
    "          x = j\n",
    "      maxi.append([X[x],Y[x],names[i]])\n",
    "    m = maxi[0]\n",
    "    for x in maxi:\n",
    "      if m[1] > x[1]:\n",
    "        m = x\n",
    "    return m\n",
    "  \n",
    "  def find_res(self, x, Tre):\n",
    "    if Tre.left == None and Tre.right == None:\n",
    "      return Tre.res\n",
    "    # print(x,Tre.name,x[Tre.name][0],Tre.data)\n",
    "    if x[Tre.name][0] <= Tre.data:\n",
    "      return self.find_res(x, Tre.left)\n",
    "    else:\n",
    "      return self.find_res(x, Tre.right)\n",
    "  \n",
    "  def Predict(self, x_test):\n",
    "    y = []\n",
    "    # print(x_test)\n",
    "    for index, row in x_test.iterrows():\n",
    "      temp_x = [row['mcv'],row['alkphos'],row['sgpt'],row['sgot'],row['gammagt']]\n",
    "      # print(temp_x)\n",
    "      s = x_test.shape[1]\n",
    "      x = pd.DataFrame(np.array(temp_x).reshape(1,s), columns =['mcv','alkphos','sgpt','sgot','gammagt']) \n",
    "      y.append(self.find_res(x, self.Tree))\n",
    "    y = pd.DataFrame(y, columns =['drinks'])\n",
    "    return y\n",
    "  \n",
    "  def Split_by_gain(self,x, y, present_depth, Depth, Depth_limit):\n",
    "    atr = self.InfoGain(x, y)\n",
    "    node = Node(atr[0], atr[2], gain = atr[1], res = int(y.mode()[0]))\n",
    "    if atr[1] == 1.0:\n",
    "      return node\n",
    "\n",
    "    else:\n",
    "      if Depth: \n",
    "        if present_depth >= Depth_limit:\n",
    "          return node\n",
    "        else:\n",
    "          temp = x.join(y)\n",
    "          L = temp[temp[atr[2]]<=atr[0]]\n",
    "          R = temp[temp[atr[2]]>atr[0]]\n",
    "          Lx = L.drop('drinks',axis = 1)\n",
    "          Ly = L['drinks']\n",
    "          Rx = R.drop('drinks',axis = 1)\n",
    "          Ry = R['drinks']\n",
    "          node.left = self.Split_by_gain(Lx,Ly, present_depth+1, Depth, Depth_limit)\n",
    "          node.right = self.Split_by_gain(Rx,Ry, present_depth+1, Depth, Depth_limit)\n",
    "\n",
    "      else:\n",
    "        temp = x.join(y)\n",
    "        L = temp[temp[atr[2]]<=atr[0]]\n",
    "        R = temp[temp[atr[2]]>atr[0]]\n",
    "        Lx = L.drop('drinks',axis = 1)\n",
    "        Ly = L['drinks']\n",
    "        Rx = R.drop('drinks',axis = 1)\n",
    "        Ry = R['drinks']\n",
    "        node.left = self.Split_by_gain(Lx,Ly, present_depth+1, Depth, Depth_limit)\n",
    "        node.right = self.Split_by_gain(Rx,Ry, present_depth+1, Depth, Depth_limit)\n",
    "\n",
    "    return node\n",
    "  \n",
    "  def Split_by_gini(self,x, y, present_depth, Depth, Depth_limit):\n",
    "    atr = self.Gini(x, y)\n",
    "    node = Node(atr[0], atr[2], gini = atr[1], res = int(y.mode()[0]))\n",
    "    if atr[1] == 0.0:\n",
    "      return node\n",
    "\n",
    "    else:\n",
    "      if Depth: \n",
    "        if present_depth >= Depth_limit:\n",
    "          return node\n",
    "        else:\n",
    "          temp = x.join(y)\n",
    "          L = temp[temp[atr[2]]<=atr[0]]\n",
    "          R = temp[temp[atr[2]]>atr[0]]\n",
    "          Lx = L.drop('drinks',axis = 1)\n",
    "          Ly = L['drinks']\n",
    "          Rx = R.drop('drinks',axis = 1)\n",
    "          Ry = R['drinks']\n",
    "          node.left = self.Split_by_gini(Lx,Ly, present_depth+1, Depth, Depth_limit)\n",
    "          node.right = self.Split_by_gini(Rx,Ry, present_depth+1, Depth, Depth_limit)\n",
    "\n",
    "      else:\n",
    "        temp = x.join(y)\n",
    "        L = temp[temp[atr[2]]<=atr[0]]\n",
    "        R = temp[temp[atr[2]]>atr[0]]\n",
    "        Lx = L.drop('drinks',axis = 1)\n",
    "        Ly = L['drinks']\n",
    "        Rx = R.drop('drinks',axis = 1)\n",
    "        Ry = R['drinks']\n",
    "        node.left = self.Split_by_gini(Lx,Ly, present_depth+1, Depth, Depth_limit)\n",
    "        node.right = self.Split_by_gini(Rx,Ry, present_depth+1, Depth, Depth_limit)\n",
    "\n",
    "    return node\n",
    "\n",
    "  def DecisionTree(self, x, y, Depth = False ,Depth_limit = 100, method = 'gini'): \n",
    "    if method == 'gain':\n",
    "      self.Tree = self.Split_by_gain(x,y,0, Depth ,Depth_limit)\n",
    "    else:\n",
    "      self.Tree = self.Split_by_gini(x,y,0, Depth ,Depth_limit)\n",
    "  \n",
    "  def Accuracy(self, X_test, Y_test):\n",
    "    y_pred = self.Predict(X_test)\n",
    "    return metrics.accuracy_score(Y_test, y_pred)\n",
    "  "
   ]
  },
  {
   "cell_type": "code",
   "execution_count": 103,
   "metadata": {
    "colab": {
     "base_uri": "https://localhost:8080/",
     "height": 185,
     "referenced_widgets": [
      "4ee624ea93c448f8afc053470582fd50",
      "93eca38fe84d4a5185e1234f334e0a9e",
      "535df8a124f2473d8dc130dc0d0bca37",
      "437a7dd217af41c7a6a408084759265b",
      "b5c40d08208e44199ae39d871f065888",
      "63ee0838355444d394d0f9c10bc33fd9",
      "e8a633b264ba474eba391de197949561",
      "19c2fa3eea844b1dae6f2aa1b8d0060c",
      "14679d39b41b4279af65cf11c0304ca6",
      "42f1b8832048458e84ed750811b571c4",
      "c4b99c1216fa449d83a8a18420bfcb43",
      "8b893af36c69479d87aa792583ffa7af",
      "d4c9d6fa89124489b094f1f40cc50b1e",
      "ac82cbebad1249569e9d4f75f6c59f63",
      "fee71ea8e25645d0a1c5bb080388c3e4",
      "2622f5c4424b43f1b1283565c97e8530",
      "e4fef66861eb4fb58316e4f87401bf66",
      "4276510f5a164597a0a8c5a7ecff2d32",
      "ea698506656440939c58e7517b4f5290",
      "d7220988b4614a0483ee16c94a81a94b",
      "af2c147b28664a92a5d90b9c5cc8b3f7",
      "a49ae08e7f22457899c8c42ee51762ea"
     ]
    },
    "id": "e3n4Cvu-9W0N",
    "outputId": "cf297558-bb7c-43b2-f846-9a332ae03e26"
   },
   "outputs": [
    {
     "name": "stderr",
     "output_type": "stream",
     "text": [
      "/usr/local/lib/python3.7/dist-packages/ipykernel_launcher.py:10: TqdmDeprecationWarning: This function will be removed in tqdm==5.0.0\n",
      "Please use `tqdm.notebook.tqdm` instead of `tqdm.tqdm_notebook`\n",
      "  # Remove the CWD from sys.path while we load stuff.\n"
     ]
    },
    {
     "data": {
      "application/vnd.jupyter.widget-view+json": {
       "model_id": "4ee624ea93c448f8afc053470582fd50",
       "version_major": 2,
       "version_minor": 0
      },
      "text/plain": [
       "  0%|          | 0/10 [00:00<?, ?epoch/s]"
      ]
     },
     "metadata": {},
     "output_type": "display_data"
    },
    {
     "name": "stderr",
     "output_type": "stream",
     "text": [
      "/usr/local/lib/python3.7/dist-packages/ipykernel_launcher.py:13: TqdmDeprecationWarning: This function will be removed in tqdm==5.0.0\n",
      "Please use `tqdm.notebook.tqdm` instead of `tqdm.tqdm_notebook`\n",
      "  del sys.path[0]\n"
     ]
    },
    {
     "data": {
      "application/vnd.jupyter.widget-view+json": {
       "model_id": "8b893af36c69479d87aa792583ffa7af",
       "version_major": 2,
       "version_minor": 0
      },
      "text/plain": [
       "  0%|          | 0/10 [00:00<?, ?epoch/s]"
      ]
     },
     "metadata": {},
     "output_type": "display_data"
    }
   ],
   "source": [
    "methods = ['gini','gain']\n",
    "DT_gain = []\n",
    "DT_gini = []\n",
    "epochs = 10\n",
    "for i in range(10):\n",
    "  DT_gain.append(DTCla())\n",
    "  DT_gini.append(DTCla())\n",
    "for M in methods:\n",
    "  if M == 'gini':\n",
    "    for i in tqdm_notebook(range(epochs),total=epochs, unit=\"epoch\"):\n",
    "      DT_gini[i].DecisionTree(X_TRAIN[i], Y_TRAIN[i], Depth = False ,Depth_limit = i, method = M)\n",
    "  if M == 'gain':\n",
    "    for i in tqdm_notebook(range(epochs),total=epochs, unit=\"epoch\"):\n",
    "      DT_gain[i].DecisionTree(X_TRAIN[i], Y_TRAIN[i], Depth = False ,Depth_limit = i, method = M)\n"
   ]
  },
  {
   "cell_type": "code",
   "execution_count": 219,
   "metadata": {
    "id": "OllaGTy--gtP"
   },
   "outputs": [],
   "source": [
    "gini_accuracy = []\n",
    "gain_accuracy = []\n",
    "methods = ['gini','gain']\n",
    "for M in methods:\n",
    "  if M == 'gini':\n",
    "    for i in range(10):\n",
    "      gini_accuracy.append(round(DT_gini[i].Accuracy(X_TEST[i], Y_TEST[i]),2))\n",
    "  if M == 'gain':\n",
    "    for i in range(10):\n",
    "      gain_accuracy.append(round(DT_gain[i].Accuracy(X_TEST[i], Y_TEST[i]),2))"
   ]
  },
  {
   "cell_type": "code",
   "execution_count": 220,
   "metadata": {
    "colab": {
     "base_uri": "https://localhost:8080/",
     "height": 729
    },
    "id": "Vir-ARc5_H36",
    "outputId": "0567b978-c5b3-4bd0-e005-5c64e8b773af"
   },
   "outputs": [
    {
     "name": "stdout",
     "output_type": "stream",
     "text": [
      "[0, 1, 2, 3, 4, 5, 6, 7, 8, 9]\n",
      "gain ->  [0.78, 0.71, 0.68, 0.67, 0.64, 0.61, 0.64, 0.7, 0.65, 0.72]\n",
      "gini ->  [0.77, 0.77, 0.75, 0.7, 0.67, 0.62, 0.77, 0.7, 0.74, 0.57]\n"
     ]
    },
    {
     "data": {
      "image/png": "[encoded data removed]",
      "text/plain": [
       "<Figure size 576x720 with 2 Axes>"
      ]
     },
     "metadata": {
      "needs_background": "light"
     },
     "output_type": "display_data"
    }
   ],
   "source": [
    "L = [0,1,2,3,4,5,6,7,8,9]\n",
    "fig, a = plt.subplots(2)\n",
    "fig.suptitle(\"accuracy of decision tree's present in DT_gini and DT_gain\")\n",
    "fig.set_figwidth(8)\n",
    "fig.set_figheight(10)\n",
    "\n",
    "a[0].plot(L,gain_accuracy,'*')\n",
    "a[0].set_xlabel(\"decision trees made by gain\")\n",
    "a[0].set_ylabel(\"accuracy\")\n",
    "\n",
    "a[1].plot(L,gini_accuracy,'*')\n",
    "a[1].set_xlabel(\"decision trees made by gini\")\n",
    "a[1].set_ylabel(\"accuracy\")\n",
    "\n",
    "print(L)\n",
    "print('gain -> ',gain_accuracy)\n",
    "print('gini -> ',gini_accuracy)"
   ]
  },
  {
   "cell_type": "code",
   "execution_count": 221,
   "metadata": {
    "colab": {
     "base_uri": "https://localhost:8080/"
    },
    "id": "qNd9HRToARct",
    "outputId": "46362bdc-0b62-4f15-ae29-9a6bf977909c"
   },
   "outputs": [
    {
     "name": "stdout",
     "output_type": "stream",
     "text": [
      "average accuracy by gain impurity ->  0.68\n",
      "average accuracy by gini impurity ->  0.71\n"
     ]
    }
   ],
   "source": [
    "print(\"average accuracy by gain impurity -> \",round(sum(gain_accuracy)/len(gain_accuracy),2))\n",
    "print(\"average accuracy by gini impurity -> \",round(sum(gini_accuracy)/len(gini_accuracy),2))"
   ]
  },
  {
   "cell_type": "code",
   "execution_count": 161,
   "metadata": {
    "colab": {
     "base_uri": "https://localhost:8080/",
     "height": 84,
     "referenced_widgets": [
      "349823add00b4e82b6257ebbcd4020d2",
      "af9d23ef5b20447c880429b86b00721a",
      "600d5ceb33394694901b249b5ce892aa",
      "2ec8f8b0023341d39f87226144b30be9",
      "2ebc260bcaa641049f550a96a77528ff",
      "5e3a4eaf752c47fbb72912803e29fef4",
      "320992fd97c5443e913e770628d5f574",
      "c94d772000a64fc1944bd7ed401780c5",
      "b58197e69b664faaaa8dc0cb30e35eac",
      "bf5972f27a4642ffa4166dbef8093760",
      "0ddede38944d4d55ad1cd9d25c3ac206"
     ]
    },
    "id": "9GX26da1Bu9-",
    "outputId": "22316fb6-080b-4bf7-f134-9860251cd88f"
   },
   "outputs": [
    {
     "name": "stderr",
     "output_type": "stream",
     "text": [
      "/usr/local/lib/python3.7/dist-packages/ipykernel_launcher.py:27: TqdmDeprecationWarning: This function will be removed in tqdm==5.0.0\n",
      "Please use `tqdm.notebook.tqdm` instead of `tqdm.tqdm_notebook`\n"
     ]
    },
    {
     "data": {
      "application/vnd.jupyter.widget-view+json": {
       "model_id": "349823add00b4e82b6257ebbcd4020d2",
       "version_major": 2,
       "version_minor": 0
      },
      "text/plain": [
       "  0%|          | 0/20 [00:00<?, ?epoch/s]"
      ]
     },
     "metadata": {},
     "output_type": "display_data"
    }
   ],
   "source": [
    "\"\"\" \n",
    "best possible tree is made by gini impurity \n",
    "1st tree of list DT_gini is the best\n",
    "from the above graph\n",
    "\"\"\"\n",
    "L = [0,1,2,3,4,5,6,7,8,9]\n",
    "index = 0\n",
    "acc = 0\n",
    "MEt = 'gini'\n",
    "for i in L:\n",
    "  if acc < gini_accuracy[i]:\n",
    "    MEt = 'gini'\n",
    "    acc = gini_accuracy[i]\n",
    "    index = i\n",
    "for i in L:\n",
    "  if acc < gain_accuracy[i]:\n",
    "    MEt = 'gain'\n",
    "    acc = gain_accuracy[i]\n",
    "    index = i\n",
    "  \n",
    "gain_accuracy = []\n",
    "Depth_tree = []\n",
    "epochs = 20\n",
    "for i in range(20):\n",
    "  Depth_tree.append(DTCla())\n",
    "lis = []\n",
    "for i in tqdm_notebook(range(epochs),total=epochs, unit=\"epoch\"):\n",
    "  if i > 2:\n",
    "    Depth_tree[i].DecisionTree(X_TRAIN[index], Y_TRAIN[index], Depth = True ,Depth_limit = i, method = MEt)\n",
    "    lis.append(i)\n",
    "\n"
   ]
  },
  {
   "cell_type": "code",
   "execution_count": 222,
   "metadata": {
    "id": "CNjEM9HcEfQM"
   },
   "outputs": [],
   "source": [
    "accuracy_depth = []\n",
    "for i in lis:\n",
    "  accuracy_depth.append(round(Depth_tree[i].Accuracy(X_TEST[index], Y_TEST[index]),2))"
   ]
  },
  {
   "cell_type": "code",
   "execution_count": 223,
   "metadata": {
    "colab": {
     "base_uri": "https://localhost:8080/",
     "height": 314
    },
    "id": "LOW0fTbMEzY6",
    "outputId": "3a711600-a3bd-4c24-ed28-dcf87f0c6ea6"
   },
   "outputs": [
    {
     "data": {
      "image/png": "[encoded data removed]",
      "text/plain": [
       "<Figure size 432x288 with 1 Axes>"
      ]
     },
     "metadata": {
      "needs_background": "light"
     },
     "output_type": "display_data"
    },
    {
     "name": "stdout",
     "output_type": "stream",
     "text": [
      "Accuracy ->  [0.77, 0.81, 0.72, 0.74, 0.75, 0.75, 0.75, 0.75, 0.77, 0.78, 0.78, 0.78, 0.78, 0.78, 0.78, 0.78, 0.78]\n",
      "depth ->  [3, 4, 5, 6, 7, 8, 9, 10, 11, 12, 13, 14, 15, 16, 17, 18, 19]\n"
     ]
    }
   ],
   "source": [
    "plt.plot(lis, accuracy_depth, '*')\n",
    "plt.xlabel(\"depth\")\n",
    "plt.ylabel(\"accuracy\")\n",
    "plt.show()\n",
    "print(\"Accuracy -> \",accuracy_depth)\n",
    "print(\"depth -> \",lis)"
   ]
  },
  {
   "cell_type": "code",
   "execution_count": 164,
   "metadata": {
    "id": "ErQ5U8D_E-w5"
   },
   "outputs": [],
   "source": [
    "def num_nodes(Tre, ):\n",
    "  if Tre == None:\n",
    "    return 0\n",
    "  return 1 + num_nodes(Tre.left)+num_nodes(Tre.right)\n"
   ]
  },
  {
   "cell_type": "code",
   "execution_count": 225,
   "metadata": {
    "colab": {
     "base_uri": "https://localhost:8080/",
     "height": 314
    },
    "id": "yfNsp-Z1FxJR",
    "outputId": "f5bfac88-4803-4138-9be8-148d02445f2f"
   },
   "outputs": [
    {
     "data": {
      "image/png": "[encoded data removed]",
      "text/plain": [
       "<Figure size 432x288 with 1 Axes>"
      ]
     },
     "metadata": {
      "needs_background": "light"
     },
     "output_type": "display_data"
    },
    {
     "name": "stdout",
     "output_type": "stream",
     "text": [
      "Number of nodes ->  [13, 25, 39, 55, 69, 79, 87, 97, 107, 113, 115, 117, 117, 117, 117, 117, 117]\n",
      "accuracy ->  [0.77, 0.81, 0.72, 0.74, 0.75, 0.75, 0.75, 0.75, 0.77, 0.78, 0.78, 0.78, 0.78, 0.78, 0.78, 0.78, 0.78]\n"
     ]
    }
   ],
   "source": [
    "num_of_nodes = []\n",
    "for i in lis:\n",
    "  num = num_nodes(Depth_tree[i].Tree)\n",
    "  num_of_nodes.append(num)\n",
    "\n",
    "plt.plot(num_of_nodes,accuracy_depth,'*')\n",
    "plt.xlabel(\"number of nodes\")\n",
    "plt.ylabel(\"accuracy\")\n",
    "plt.show()\n",
    "print(\"Number of nodes -> \",num_of_nodes)\n",
    "print(\"accuracy -> \",accuracy_depth)\n"
   ]
  },
  {
   "cell_type": "code",
   "execution_count": 166,
   "metadata": {
    "id": "q08KSpIoIwqY"
   },
   "outputs": [],
   "source": [
    "def prune( Ori_T, temp_T, i, index):\n",
    "  \"\"\"\n",
    "  Ori_T -> original tree\n",
    "  temp_T -> node of a tree \n",
    "  i -> index\n",
    "  index -> index value of a test and train data of the decision tree (we have 10 random test train splits)\n",
    "  \"\"\"\n",
    "  if temp_T == None:\n",
    "    return\n",
    "  if temp_T.left == None:\n",
    "    return\n",
    "  prune(Ori_T,temp_T.left,i+1, index)\n",
    "  prune(Ori_T,temp_T.right, i+1, index)\n",
    "  if i > 3:\n",
    "    acc1 = Ori_T.Accuracy(X_TEST[index], Y_TEST[index])\n",
    "    x = deepcopy(Ori_T)\n",
    "    temporary = deepcopy(temp_T)\n",
    "    temp_T.left = None\n",
    "    temp_T.right = None\n",
    "    acc2 = Ori_T.Accuracy(X_TEST[index], Y_TEST[index])\n",
    "    if acc2 < acc1:\n",
    "      temp_T.left = temporary.left\n",
    "      temp_T.right  = temporary.right\n",
    "  \n",
    "\n"
   ]
  },
  {
   "cell_type": "code",
   "execution_count": 211,
   "metadata": {
    "id": "hb6Gd4ZqJLew"
   },
   "outputs": [],
   "source": [
    "def print_tree(T,s):\n",
    "  if T == None:\n",
    "    return\n",
    "  S = str(T.name) + ' <= '\n",
    "  if T.data != None:\n",
    "    S += str(round(T.data,2)) + ' \\n' \n",
    "  else:\n",
    "    S += str(T.data) + '\\n'\n",
    "  if T.gini != None:\n",
    "    S += 'gini = ' + str(round(T.gini,2)) + ' \\n'\n",
    "  else:\n",
    "    S += 'gini = ' + str(T.gini) + '\\n'\n",
    "  if T.gain != None:\n",
    "    S += 'gain = ' + str(round(T.gain,2)) + ' \\n'\n",
    "  else:\n",
    "    S += 'gain = ' + str(T.gain)+'\\n'\n",
    "  S += 'class = ' + str(T.res)\n",
    "  # print(S)\n",
    "  dot.node(str(s),S)\n",
    "  if s != 0:\n",
    "    dot.edge(str(int((s-1)/2)),str(s))\n",
    "  print_tree(T.left,2*s+1)\n",
    "  print_tree(T.right,2*s+2)"
   ]
  },
  {
   "cell_type": "code",
   "execution_count": 212,
   "metadata": {
    "id": "haTFOBXKGT-7"
   },
   "outputs": [],
   "source": [
    "pruning_Tree = deepcopy(DT_gain[index])\n",
    "prune(pruning_Tree,pruning_Tree.Tree,0,0)"
   ]
  },
  {
   "cell_type": "code",
   "execution_count": 213,
   "metadata": {
    "colab": {
     "base_uri": "https://localhost:8080/",
     "height": 35
    },
    "id": "xMwBK0w-Ij1y",
    "outputId": "8933c4fe-3b51-470e-a435-a2b92492c3da"
   },
   "outputs": [
    {
     "data": {
      "application/vnd.google.colaboratory.intrinsic+json": {
       "type": "string"
      },
      "text/plain": [
       "'tree_pruned0.pdf'"
      ]
     },
     "execution_count": 213,
     "metadata": {},
     "output_type": "execute_result"
    }
   ],
   "source": [
    "dot = graphviz.Digraph(comment='Pruned_Tree')\n",
    "dot\n",
    "print_tree(pruning_Tree.Tree,0)\n",
    "s1 = 'tree_pruned'\n",
    "s1 += str(index)\n",
    "dot.render(s1, view=True)"
   ]
  },
  {
   "cell_type": "code",
   "execution_count": 214,
   "metadata": {
    "colab": {
     "base_uri": "https://localhost:8080/",
     "height": 35
    },
    "id": "2DpRKTvCJfDm",
    "outputId": "01fc3e39-561c-45ae-a1d5-6da661b39cb3"
   },
   "outputs": [
    {
     "data": {
      "application/vnd.google.colaboratory.intrinsic+json": {
       "type": "string"
      },
      "text/plain": [
       "'Treebygain0.pdf'"
      ]
     },
     "execution_count": 214,
     "metadata": {},
     "output_type": "execute_result"
    }
   ],
   "source": [
    "dot = graphviz.Digraph(comment='Pruned_Tree')\n",
    "dot\n",
    "print_tree(DT_gain[index].Tree,0)\n",
    "s1 = 'Treebygain'\n",
    "s1 += str(index)\n",
    "dot.render(s1, view=True)"
   ]
  },
  {
   "cell_type": "code",
   "execution_count": 215,
   "metadata": {
    "colab": {
     "base_uri": "https://localhost:8080/"
    },
    "id": "LmQ0hcpuJkY_",
    "outputId": "44b952a8-6780-4a90-998e-2e2a8f4234f1"
   },
   "outputs": [
    {
     "name": "stdout",
     "output_type": "stream",
     "text": [
      "0.782608695652174 0.855072463768116\n"
     ]
    }
   ],
   "source": [
    "print(DT_gain[index].Accuracy(X_TEST[index],Y_TEST[index]), pruning_Tree.Accuracy(X_TEST[index],Y_TEST[index]))"
   ]
  },
  {
   "cell_type": "code",
   "execution_count": 216,
   "metadata": {
    "colab": {
     "base_uri": "https://localhost:8080/",
     "height": 35
    },
    "id": "E2qImW1gJ-Ab",
    "outputId": "ec652f9f-c3ad-4fee-a5ff-f104cf3698d4"
   },
   "outputs": [
    {
     "data": {
      "application/vnd.google.colaboratory.intrinsic+json": {
       "type": "string"
      },
      "text/plain": [
       "'Best_depth_tree1.pdf'"
      ]
     },
     "execution_count": 216,
     "metadata": {},
     "output_type": "execute_result"
    }
   ],
   "source": [
    "dot = graphviz.Digraph(comment='Depth_tree')\n",
    "dot\n",
    "index_1 = 0\n",
    "for i in range(len(lis)):\n",
    "  if accuracy_depth[index_1] < accuracy_depth[i]:\n",
    "    index_1 = i\n",
    "\n",
    "print_tree(Depth_tree[lis[index_1]].Tree,0)\n",
    "s1 = 'Best_depth_tree'\n",
    "s1 += str(index_1)\n",
    "dot.render(s1, view=True)"
   ]
  },
  {
   "cell_type": "code",
   "execution_count": 217,
   "metadata": {
    "colab": {
     "base_uri": "https://localhost:8080/"
    },
    "id": "A2_0eh4aM183",
    "outputId": "f4a65bf5-b7ee-415d-bfd3-592bd2bce4d2"
   },
   "outputs": [
    {
     "name": "stdout",
     "output_type": "stream",
     "text": [
      "1\n"
     ]
    }
   ],
   "source": [
    "print(index_1)"
   ]
  },
  {
   "cell_type": "code",
   "execution_count": 218,
   "metadata": {
    "colab": {
     "base_uri": "https://localhost:8080/",
     "height": 35
    },
    "id": "6Fbm4zueb74r",
    "outputId": "1a66477b-c196-4f4c-b609-5040ead37da2"
   },
   "outputs": [
    {
     "data": {
      "application/vnd.google.colaboratory.intrinsic+json": {
       "type": "string"
      },
      "text/plain": [
       "'Best_acc_tree_by_gini.pdf'"
      ]
     },
     "execution_count": 218,
     "metadata": {},
     "output_type": "execute_result"
    }
   ],
   "source": [
    "dot = graphviz.Digraph(comment='GINI')\n",
    "dot\n",
    "\n",
    "print_tree(DT_gini[0].Tree,0)\n",
    "s1 = 'Best_acc_tree_by_gini'\n",
    "dot.render(s1, view=True)"
   ]
  },
  {
   "cell_type": "code",
   "execution_count": 218,
   "metadata": {
    "id": "RQoPK8GTcqAG"
   },
   "outputs": [],
   "source": []
  }
 ],
 "metadata": {
  "colab": {
   "collapsed_sections": [],
   "name": "ML_grp_17.ipynb",
   "provenance": []
  },
  "kernelspec": {
   "display_name": "Python 3",
   "language": "python",
   "name": "python3"
  },
  "language_info": {
   "codemirror_mode": {
    "name": "ipython",
    "version": 3
   },
   "file_extension": ".py",
   "mimetype": "text/x-python",
   "name": "python",
   "nbconvert_exporter": "python",
   "pygments_lexer": "ipython3",
   "version": "3.8.5"
  },
  "widgets": {
   "application/vnd.jupyter.widget-state+json": {
    "0ddede38944d4d55ad1cd9d25c3ac206": {
     "model_module": "@jupyter-widgets/base",
     "model_module_version": "1.2.0",
     "model_name": "LayoutModel",
     "state": {
      "_model_module": "@jupyter-widgets/base",
      "_model_module_version": "1.2.0",
      "_model_name": "LayoutModel",
      "_view_count": null,
      "_view_module": "@jupyter-widgets/base",
      "_view_module_version": "1.2.0",
      "_view_name": "LayoutView",
      "align_content": null,
      "align_items": null,
      "align_self": null,
      "border": null,
      "bottom": null,
      "display": null,
      "flex": null,
      "flex_flow": null,
      "grid_area": null,
      "grid_auto_columns": null,
      "grid_auto_flow": null,
      "grid_auto_rows": null,
      "grid_column": null,
      "grid_gap": null,
      "grid_row": null,
      "grid_template_areas": null,
      "grid_template_columns": null,
      "grid_template_rows": null,
      "height": null,
      "justify_content": null,
      "justify_items": null,
      "left": null,
      "margin": null,
      "max_height": null,
      "max_width": null,
      "min_height": null,
      "min_width": null,
      "object_fit": null,
      "object_position": null,
      "order": null,
      "overflow": null,
      "overflow_x": null,
      "overflow_y": null,
      "padding": null,
      "right": null,
      "top": null,
      "visibility": null,
      "width": null
     }
    },
    "14679d39b41b4279af65cf11c0304ca6": {
     "model_module": "@jupyter-widgets/base",
     "model_module_version": "1.2.0",
     "model_name": "LayoutModel",
     "state": {
      "_model_module": "@jupyter-widgets/base",
      "_model_module_version": "1.2.0",
      "_model_name": "LayoutModel",
      "_view_count": null,
      "_view_module": "@jupyter-widgets/base",
      "_view_module_version": "1.2.0",
      "_view_name": "LayoutView",
      "align_content": null,
      "align_items": null,
      "align_self": null,
      "border": null,
      "bottom": null,
      "display": null,
      "flex": null,
      "flex_flow": null,
      "grid_area": null,
      "grid_auto_columns": null,
      "grid_auto_flow": null,
      "grid_auto_rows": null,
      "grid_column": null,
      "grid_gap": null,
      "grid_row": null,
      "grid_template_areas": null,
      "grid_template_columns": null,
      "grid_template_rows": null,
      "height": null,
      "justify_content": null,
      "justify_items": null,
      "left": null,
      "margin": null,
      "max_height": null,
      "max_width": null,
      "min_height": null,
      "min_width": null,
      "object_fit": null,
      "object_position": null,
      "order": null,
      "overflow": null,
      "overflow_x": null,
      "overflow_y": null,
      "padding": null,
      "right": null,
      "top": null,
      "visibility": null,
      "width": null
     }
    },
    "19c2fa3eea844b1dae6f2aa1b8d0060c": {
     "model_module": "@jupyter-widgets/controls",
     "model_module_version": "1.5.0",
     "model_name": "ProgressStyleModel",
     "state": {
      "_model_module": "@jupyter-widgets/controls",
      "_model_module_version": "1.5.0",
      "_model_name": "ProgressStyleModel",
      "_view_count": null,
      "_view_module": "@jupyter-widgets/base",
      "_view_module_version": "1.2.0",
      "_view_name": "StyleView",
      "bar_color": null,
      "description_width": ""
     }
    },
    "2622f5c4424b43f1b1283565c97e8530": {
     "model_module": "@jupyter-widgets/controls",
     "model_module_version": "1.5.0",
     "model_name": "HTMLModel",
     "state": {
      "_dom_classes": [],
      "_model_module": "@jupyter-widgets/controls",
      "_model_module_version": "1.5.0",
      "_model_name": "HTMLModel",
      "_view_count": null,
      "_view_module": "@jupyter-widgets/controls",
      "_view_module_version": "1.5.0",
      "_view_name": "HTMLView",
      "description": "",
      "description_tooltip": null,
      "layout": "IPY_MODEL_a49ae08e7f22457899c8c42ee51762ea",
      "placeholder": "​",
      "style": "IPY_MODEL_af2c147b28664a92a5d90b9c5cc8b3f7",
      "value": " 10/10 [05:15&lt;00:00, 31.29s/epoch]"
     }
    },
    "2ebc260bcaa641049f550a96a77528ff": {
     "model_module": "@jupyter-widgets/controls",
     "model_module_version": "1.5.0",
     "model_name": "HTMLModel",
     "state": {
      "_dom_classes": [],
      "_model_module": "@jupyter-widgets/controls",
      "_model_module_version": "1.5.0",
      "_model_name": "HTMLModel",
      "_view_count": null,
      "_view_module": "@jupyter-widgets/controls",
      "_view_module_version": "1.5.0",
      "_view_name": "HTMLView",
      "description": "",
      "description_tooltip": null,
      "layout": "IPY_MODEL_0ddede38944d4d55ad1cd9d25c3ac206",
      "placeholder": "​",
      "style": "IPY_MODEL_bf5972f27a4642ffa4166dbef8093760",
      "value": " 20/20 [07:54&lt;00:00, 34.30s/epoch]"
     }
    },
    "2ec8f8b0023341d39f87226144b30be9": {
     "model_module": "@jupyter-widgets/controls",
     "model_module_version": "1.5.0",
     "model_name": "FloatProgressModel",
     "state": {
      "_dom_classes": [],
      "_model_module": "@jupyter-widgets/controls",
      "_model_module_version": "1.5.0",
      "_model_name": "FloatProgressModel",
      "_view_count": null,
      "_view_module": "@jupyter-widgets/controls",
      "_view_module_version": "1.5.0",
      "_view_name": "ProgressView",
      "bar_style": "success",
      "description": "",
      "description_tooltip": null,
      "layout": "IPY_MODEL_b58197e69b664faaaa8dc0cb30e35eac",
      "max": 20,
      "min": 0,
      "orientation": "horizontal",
      "style": "IPY_MODEL_c94d772000a64fc1944bd7ed401780c5",
      "value": 20
     }
    },
    "320992fd97c5443e913e770628d5f574": {
     "model_module": "@jupyter-widgets/base",
     "model_module_version": "1.2.0",
     "model_name": "LayoutModel",
     "state": {
      "_model_module": "@jupyter-widgets/base",
      "_model_module_version": "1.2.0",
      "_model_name": "LayoutModel",
      "_view_count": null,
      "_view_module": "@jupyter-widgets/base",
      "_view_module_version": "1.2.0",
      "_view_name": "LayoutView",
      "align_content": null,
      "align_items": null,
      "align_self": null,
      "border": null,
      "bottom": null,
      "display": null,
      "flex": null,
      "flex_flow": null,
      "grid_area": null,
      "grid_auto_columns": null,
      "grid_auto_flow": null,
      "grid_auto_rows": null,
      "grid_column": null,
      "grid_gap": null,
      "grid_row": null,
      "grid_template_areas": null,
      "grid_template_columns": null,
      "grid_template_rows": null,
      "height": null,
      "justify_content": null,
      "justify_items": null,
      "left": null,
      "margin": null,
      "max_height": null,
      "max_width": null,
      "min_height": null,
      "min_width": null,
      "object_fit": null,
      "object_position": null,
      "order": null,
      "overflow": null,
      "overflow_x": null,
      "overflow_y": null,
      "padding": null,
      "right": null,
      "top": null,
      "visibility": null,
      "width": null
     }
    },
    "349823add00b4e82b6257ebbcd4020d2": {
     "model_module": "@jupyter-widgets/controls",
     "model_module_version": "1.5.0",
     "model_name": "HBoxModel",
     "state": {
      "_dom_classes": [],
      "_model_module": "@jupyter-widgets/controls",
      "_model_module_version": "1.5.0",
      "_model_name": "HBoxModel",
      "_view_count": null,
      "_view_module": "@jupyter-widgets/controls",
      "_view_module_version": "1.5.0",
      "_view_name": "HBoxView",
      "box_style": "",
      "children": [
       "IPY_MODEL_600d5ceb33394694901b249b5ce892aa",
       "IPY_MODEL_2ec8f8b0023341d39f87226144b30be9",
       "IPY_MODEL_2ebc260bcaa641049f550a96a77528ff"
      ],
      "layout": "IPY_MODEL_af9d23ef5b20447c880429b86b00721a"
     }
    },
    "4276510f5a164597a0a8c5a7ecff2d32": {
     "model_module": "@jupyter-widgets/base",
     "model_module_version": "1.2.0",
     "model_name": "LayoutModel",
     "state": {
      "_model_module": "@jupyter-widgets/base",
      "_model_module_version": "1.2.0",
      "_model_name": "LayoutModel",
      "_view_count": null,
      "_view_module": "@jupyter-widgets/base",
      "_view_module_version": "1.2.0",
      "_view_name": "LayoutView",
      "align_content": null,
      "align_items": null,
      "align_self": null,
      "border": null,
      "bottom": null,
      "display": null,
      "flex": null,
      "flex_flow": null,
      "grid_area": null,
      "grid_auto_columns": null,
      "grid_auto_flow": null,
      "grid_auto_rows": null,
      "grid_column": null,
      "grid_gap": null,
      "grid_row": null,
      "grid_template_areas": null,
      "grid_template_columns": null,
      "grid_template_rows": null,
      "height": null,
      "justify_content": null,
      "justify_items": null,
      "left": null,
      "margin": null,
      "max_height": null,
      "max_width": null,
      "min_height": null,
      "min_width": null,
      "object_fit": null,
      "object_position": null,
      "order": null,
      "overflow": null,
      "overflow_x": null,
      "overflow_y": null,
      "padding": null,
      "right": null,
      "top": null,
      "visibility": null,
      "width": null
     }
    },
    "42f1b8832048458e84ed750811b571c4": {
     "model_module": "@jupyter-widgets/controls",
     "model_module_version": "1.5.0",
     "model_name": "DescriptionStyleModel",
     "state": {
      "_model_module": "@jupyter-widgets/controls",
      "_model_module_version": "1.5.0",
      "_model_name": "DescriptionStyleModel",
      "_view_count": null,
      "_view_module": "@jupyter-widgets/base",
      "_view_module_version": "1.2.0",
      "_view_name": "StyleView",
      "description_width": ""
     }
    },
    "437a7dd217af41c7a6a408084759265b": {
     "model_module": "@jupyter-widgets/controls",
     "model_module_version": "1.5.0",
     "model_name": "FloatProgressModel",
     "state": {
      "_dom_classes": [],
      "_model_module": "@jupyter-widgets/controls",
      "_model_module_version": "1.5.0",
      "_model_name": "FloatProgressModel",
      "_view_count": null,
      "_view_module": "@jupyter-widgets/controls",
      "_view_module_version": "1.5.0",
      "_view_name": "ProgressView",
      "bar_style": "success",
      "description": "",
      "description_tooltip": null,
      "layout": "IPY_MODEL_14679d39b41b4279af65cf11c0304ca6",
      "max": 10,
      "min": 0,
      "orientation": "horizontal",
      "style": "IPY_MODEL_19c2fa3eea844b1dae6f2aa1b8d0060c",
      "value": 10
     }
    },
    "4ee624ea93c448f8afc053470582fd50": {
     "model_module": "@jupyter-widgets/controls",
     "model_module_version": "1.5.0",
     "model_name": "HBoxModel",
     "state": {
      "_dom_classes": [],
      "_model_module": "@jupyter-widgets/controls",
      "_model_module_version": "1.5.0",
      "_model_name": "HBoxModel",
      "_view_count": null,
      "_view_module": "@jupyter-widgets/controls",
      "_view_module_version": "1.5.0",
      "_view_name": "HBoxView",
      "box_style": "",
      "children": [
       "IPY_MODEL_535df8a124f2473d8dc130dc0d0bca37",
       "IPY_MODEL_437a7dd217af41c7a6a408084759265b",
       "IPY_MODEL_b5c40d08208e44199ae39d871f065888"
      ],
      "layout": "IPY_MODEL_93eca38fe84d4a5185e1234f334e0a9e"
     }
    },
    "535df8a124f2473d8dc130dc0d0bca37": {
     "model_module": "@jupyter-widgets/controls",
     "model_module_version": "1.5.0",
     "model_name": "HTMLModel",
     "state": {
      "_dom_classes": [],
      "_model_module": "@jupyter-widgets/controls",
      "_model_module_version": "1.5.0",
      "_model_name": "HTMLModel",
      "_view_count": null,
      "_view_module": "@jupyter-widgets/controls",
      "_view_module_version": "1.5.0",
      "_view_name": "HTMLView",
      "description": "",
      "description_tooltip": null,
      "layout": "IPY_MODEL_e8a633b264ba474eba391de197949561",
      "placeholder": "​",
      "style": "IPY_MODEL_63ee0838355444d394d0f9c10bc33fd9",
      "value": "100%"
     }
    },
    "5e3a4eaf752c47fbb72912803e29fef4": {
     "model_module": "@jupyter-widgets/controls",
     "model_module_version": "1.5.0",
     "model_name": "DescriptionStyleModel",
     "state": {
      "_model_module": "@jupyter-widgets/controls",
      "_model_module_version": "1.5.0",
      "_model_name": "DescriptionStyleModel",
      "_view_count": null,
      "_view_module": "@jupyter-widgets/base",
      "_view_module_version": "1.2.0",
      "_view_name": "StyleView",
      "description_width": ""
     }
    },
    "600d5ceb33394694901b249b5ce892aa": {
     "model_module": "@jupyter-widgets/controls",
     "model_module_version": "1.5.0",
     "model_name": "HTMLModel",
     "state": {
      "_dom_classes": [],
      "_model_module": "@jupyter-widgets/controls",
      "_model_module_version": "1.5.0",
      "_model_name": "HTMLModel",
      "_view_count": null,
      "_view_module": "@jupyter-widgets/controls",
      "_view_module_version": "1.5.0",
      "_view_name": "HTMLView",
      "description": "",
      "description_tooltip": null,
      "layout": "IPY_MODEL_320992fd97c5443e913e770628d5f574",
      "placeholder": "​",
      "style": "IPY_MODEL_5e3a4eaf752c47fbb72912803e29fef4",
      "value": "100%"
     }
    },
    "63ee0838355444d394d0f9c10bc33fd9": {
     "model_module": "@jupyter-widgets/controls",
     "model_module_version": "1.5.0",
     "model_name": "DescriptionStyleModel",
     "state": {
      "_model_module": "@jupyter-widgets/controls",
      "_model_module_version": "1.5.0",
      "_model_name": "DescriptionStyleModel",
      "_view_count": null,
      "_view_module": "@jupyter-widgets/base",
      "_view_module_version": "1.2.0",
      "_view_name": "StyleView",
      "description_width": ""
     }
    },
    "8b893af36c69479d87aa792583ffa7af": {
     "model_module": "@jupyter-widgets/controls",
     "model_module_version": "1.5.0",
     "model_name": "HBoxModel",
     "state": {
      "_dom_classes": [],
      "_model_module": "@jupyter-widgets/controls",
      "_model_module_version": "1.5.0",
      "_model_name": "HBoxModel",
      "_view_count": null,
      "_view_module": "@jupyter-widgets/controls",
      "_view_module_version": "1.5.0",
      "_view_name": "HBoxView",
      "box_style": "",
      "children": [
       "IPY_MODEL_ac82cbebad1249569e9d4f75f6c59f63",
       "IPY_MODEL_fee71ea8e25645d0a1c5bb080388c3e4",
       "IPY_MODEL_2622f5c4424b43f1b1283565c97e8530"
      ],
      "layout": "IPY_MODEL_d4c9d6fa89124489b094f1f40cc50b1e"
     }
    },
    "93eca38fe84d4a5185e1234f334e0a9e": {
     "model_module": "@jupyter-widgets/base",
     "model_module_version": "1.2.0",
     "model_name": "LayoutModel",
     "state": {
      "_model_module": "@jupyter-widgets/base",
      "_model_module_version": "1.2.0",
      "_model_name": "LayoutModel",
      "_view_count": null,
      "_view_module": "@jupyter-widgets/base",
      "_view_module_version": "1.2.0",
      "_view_name": "LayoutView",
      "align_content": null,
      "align_items": null,
      "align_self": null,
      "border": null,
      "bottom": null,
      "display": null,
      "flex": null,
      "flex_flow": null,
      "grid_area": null,
      "grid_auto_columns": null,
      "grid_auto_flow": null,
      "grid_auto_rows": null,
      "grid_column": null,
      "grid_gap": null,
      "grid_row": null,
      "grid_template_areas": null,
      "grid_template_columns": null,
      "grid_template_rows": null,
      "height": null,
      "justify_content": null,
      "justify_items": null,
      "left": null,
      "margin": null,
      "max_height": null,
      "max_width": null,
      "min_height": null,
      "min_width": null,
      "object_fit": null,
      "object_position": null,
      "order": null,
      "overflow": null,
      "overflow_x": null,
      "overflow_y": null,
      "padding": null,
      "right": null,
      "top": null,
      "visibility": null,
      "width": null
     }
    },
    "a49ae08e7f22457899c8c42ee51762ea": {
     "model_module": "@jupyter-widgets/base",
     "model_module_version": "1.2.0",
     "model_name": "LayoutModel",
     "state": {
      "_model_module": "@jupyter-widgets/base",
      "_model_module_version": "1.2.0",
      "_model_name": "LayoutModel",
      "_view_count": null,
      "_view_module": "@jupyter-widgets/base",
      "_view_module_version": "1.2.0",
      "_view_name": "LayoutView",
      "align_content": null,
      "align_items": null,
      "align_self": null,
      "border": null,
      "bottom": null,
      "display": null,
      "flex": null,
      "flex_flow": null,
      "grid_area": null,
      "grid_auto_columns": null,
      "grid_auto_flow": null,
      "grid_auto_rows": null,
      "grid_column": null,
      "grid_gap": null,
      "grid_row": null,
      "grid_template_areas": null,
      "grid_template_columns": null,
      "grid_template_rows": null,
      "height": null,
      "justify_content": null,
      "justify_items": null,
      "left": null,
      "margin": null,
      "max_height": null,
      "max_width": null,
      "min_height": null,
      "min_width": null,
      "object_fit": null,
      "object_position": null,
      "order": null,
      "overflow": null,
      "overflow_x": null,
      "overflow_y": null,
      "padding": null,
      "right": null,
      "top": null,
      "visibility": null,
      "width": null
     }
    },
    "ac82cbebad1249569e9d4f75f6c59f63": {
     "model_module": "@jupyter-widgets/controls",
     "model_module_version": "1.5.0",
     "model_name": "HTMLModel",
     "state": {
      "_dom_classes": [],
      "_model_module": "@jupyter-widgets/controls",
      "_model_module_version": "1.5.0",
      "_model_name": "HTMLModel",
      "_view_count": null,
      "_view_module": "@jupyter-widgets/controls",
      "_view_module_version": "1.5.0",
      "_view_name": "HTMLView",
      "description": "",
      "description_tooltip": null,
      "layout": "IPY_MODEL_4276510f5a164597a0a8c5a7ecff2d32",
      "placeholder": "​",
      "style": "IPY_MODEL_e4fef66861eb4fb58316e4f87401bf66",
      "value": "100%"
     }
    },
    "af2c147b28664a92a5d90b9c5cc8b3f7": {
     "model_module": "@jupyter-widgets/controls",
     "model_module_version": "1.5.0",
     "model_name": "DescriptionStyleModel",
     "state": {
      "_model_module": "@jupyter-widgets/controls",
      "_model_module_version": "1.5.0",
      "_model_name": "DescriptionStyleModel",
      "_view_count": null,
      "_view_module": "@jupyter-widgets/base",
      "_view_module_version": "1.2.0",
      "_view_name": "StyleView",
      "description_width": ""
     }
    },
    "af9d23ef5b20447c880429b86b00721a": {
     "model_module": "@jupyter-widgets/base",
     "model_module_version": "1.2.0",
     "model_name": "LayoutModel",
     "state": {
      "_model_module": "@jupyter-widgets/base",
      "_model_module_version": "1.2.0",
      "_model_name": "LayoutModel",
      "_view_count": null,
      "_view_module": "@jupyter-widgets/base",
      "_view_module_version": "1.2.0",
      "_view_name": "LayoutView",
      "align_content": null,
      "align_items": null,
      "align_self": null,
      "border": null,
      "bottom": null,
      "display": null,
      "flex": null,
      "flex_flow": null,
      "grid_area": null,
      "grid_auto_columns": null,
      "grid_auto_flow": null,
      "grid_auto_rows": null,
      "grid_column": null,
      "grid_gap": null,
      "grid_row": null,
      "grid_template_areas": null,
      "grid_template_columns": null,
      "grid_template_rows": null,
      "height": null,
      "justify_content": null,
      "justify_items": null,
      "left": null,
      "margin": null,
      "max_height": null,
      "max_width": null,
      "min_height": null,
      "min_width": null,
      "object_fit": null,
      "object_position": null,
      "order": null,
      "overflow": null,
      "overflow_x": null,
      "overflow_y": null,
      "padding": null,
      "right": null,
      "top": null,
      "visibility": null,
      "width": null
     }
    },
    "b58197e69b664faaaa8dc0cb30e35eac": {
     "model_module": "@jupyter-widgets/base",
     "model_module_version": "1.2.0",
     "model_name": "LayoutModel",
     "state": {
      "_model_module": "@jupyter-widgets/base",
      "_model_module_version": "1.2.0",
      "_model_name": "LayoutModel",
      "_view_count": null,
      "_view_module": "@jupyter-widgets/base",
      "_view_module_version": "1.2.0",
      "_view_name": "LayoutView",
      "align_content": null,
      "align_items": null,
      "align_self": null,
      "border": null,
      "bottom": null,
      "display": null,
      "flex": null,
      "flex_flow": null,
      "grid_area": null,
      "grid_auto_columns": null,
      "grid_auto_flow": null,
      "grid_auto_rows": null,
      "grid_column": null,
      "grid_gap": null,
      "grid_row": null,
      "grid_template_areas": null,
      "grid_template_columns": null,
      "grid_template_rows": null,
      "height": null,
      "justify_content": null,
      "justify_items": null,
      "left": null,
      "margin": null,
      "max_height": null,
      "max_width": null,
      "min_height": null,
      "min_width": null,
      "object_fit": null,
      "object_position": null,
      "order": null,
      "overflow": null,
      "overflow_x": null,
      "overflow_y": null,
      "padding": null,
      "right": null,
      "top": null,
      "visibility": null,
      "width": null
     }
    },
    "b5c40d08208e44199ae39d871f065888": {
     "model_module": "@jupyter-widgets/controls",
     "model_module_version": "1.5.0",
     "model_name": "HTMLModel",
     "state": {
      "_dom_classes": [],
      "_model_module": "@jupyter-widgets/controls",
      "_model_module_version": "1.5.0",
      "_model_name": "HTMLModel",
      "_view_count": null,
      "_view_module": "@jupyter-widgets/controls",
      "_view_module_version": "1.5.0",
      "_view_name": "HTMLView",
      "description": "",
      "description_tooltip": null,
      "layout": "IPY_MODEL_c4b99c1216fa449d83a8a18420bfcb43",
      "placeholder": "​",
      "style": "IPY_MODEL_42f1b8832048458e84ed750811b571c4",
      "value": " 10/10 [00:08&lt;00:00,  1.16epoch/s]"
     }
    },
    "bf5972f27a4642ffa4166dbef8093760": {
     "model_module": "@jupyter-widgets/controls",
     "model_module_version": "1.5.0",
     "model_name": "DescriptionStyleModel",
     "state": {
      "_model_module": "@jupyter-widgets/controls",
      "_model_module_version": "1.5.0",
      "_model_name": "DescriptionStyleModel",
      "_view_count": null,
      "_view_module": "@jupyter-widgets/base",
      "_view_module_version": "1.2.0",
      "_view_name": "StyleView",
      "description_width": ""
     }
    },
    "c4b99c1216fa449d83a8a18420bfcb43": {
     "model_module": "@jupyter-widgets/base",
     "model_module_version": "1.2.0",
     "model_name": "LayoutModel",
     "state": {
      "_model_module": "@jupyter-widgets/base",
      "_model_module_version": "1.2.0",
      "_model_name": "LayoutModel",
      "_view_count": null,
      "_view_module": "@jupyter-widgets/base",
      "_view_module_version": "1.2.0",
      "_view_name": "LayoutView",
      "align_content": null,
      "align_items": null,
      "align_self": null,
      "border": null,
      "bottom": null,
      "display": null,
      "flex": null,
      "flex_flow": null,
      "grid_area": null,
      "grid_auto_columns": null,
      "grid_auto_flow": null,
      "grid_auto_rows": null,
      "grid_column": null,
      "grid_gap": null,
      "grid_row": null,
      "grid_template_areas": null,
      "grid_template_columns": null,
      "grid_template_rows": null,
      "height": null,
      "justify_content": null,
      "justify_items": null,
      "left": null,
      "margin": null,
      "max_height": null,
      "max_width": null,
      "min_height": null,
      "min_width": null,
      "object_fit": null,
      "object_position": null,
      "order": null,
      "overflow": null,
      "overflow_x": null,
      "overflow_y": null,
      "padding": null,
      "right": null,
      "top": null,
      "visibility": null,
      "width": null
     }
    },
    "c94d772000a64fc1944bd7ed401780c5": {
     "model_module": "@jupyter-widgets/controls",
     "model_module_version": "1.5.0",
     "model_name": "ProgressStyleModel",
     "state": {
      "_model_module": "@jupyter-widgets/controls",
      "_model_module_version": "1.5.0",
      "_model_name": "ProgressStyleModel",
      "_view_count": null,
      "_view_module": "@jupyter-widgets/base",
      "_view_module_version": "1.2.0",
      "_view_name": "StyleView",
      "bar_color": null,
      "description_width": ""
     }
    },
    "d4c9d6fa89124489b094f1f40cc50b1e": {
     "model_module": "@jupyter-widgets/base",
     "model_module_version": "1.2.0",
     "model_name": "LayoutModel",
     "state": {
      "_model_module": "@jupyter-widgets/base",
      "_model_module_version": "1.2.0",
      "_model_name": "LayoutModel",
      "_view_count": null,
      "_view_module": "@jupyter-widgets/base",
      "_view_module_version": "1.2.0",
      "_view_name": "LayoutView",
      "align_content": null,
      "align_items": null,
      "align_self": null,
      "border": null,
      "bottom": null,
      "display": null,
      "flex": null,
      "flex_flow": null,
      "grid_area": null,
      "grid_auto_columns": null,
      "grid_auto_flow": null,
      "grid_auto_rows": null,
      "grid_column": null,
      "grid_gap": null,
      "grid_row": null,
      "grid_template_areas": null,
      "grid_template_columns": null,
      "grid_template_rows": null,
      "height": null,
      "justify_content": null,
      "justify_items": null,
      "left": null,
      "margin": null,
      "max_height": null,
      "max_width": null,
      "min_height": null,
      "min_width": null,
      "object_fit": null,
      "object_position": null,
      "order": null,
      "overflow": null,
      "overflow_x": null,
      "overflow_y": null,
      "padding": null,
      "right": null,
      "top": null,
      "visibility": null,
      "width": null
     }
    },
    "d7220988b4614a0483ee16c94a81a94b": {
     "model_module": "@jupyter-widgets/base",
     "model_module_version": "1.2.0",
     "model_name": "LayoutModel",
     "state": {
      "_model_module": "@jupyter-widgets/base",
      "_model_module_version": "1.2.0",
      "_model_name": "LayoutModel",
      "_view_count": null,
      "_view_module": "@jupyter-widgets/base",
      "_view_module_version": "1.2.0",
      "_view_name": "LayoutView",
      "align_content": null,
      "align_items": null,
      "align_self": null,
      "border": null,
      "bottom": null,
      "display": null,
      "flex": null,
      "flex_flow": null,
      "grid_area": null,
      "grid_auto_columns": null,
      "grid_auto_flow": null,
      "grid_auto_rows": null,
      "grid_column": null,
      "grid_gap": null,
      "grid_row": null,
      "grid_template_areas": null,
      "grid_template_columns": null,
      "grid_template_rows": null,
      "height": null,
      "justify_content": null,
      "justify_items": null,
      "left": null,
      "margin": null,
      "max_height": null,
      "max_width": null,
      "min_height": null,
      "min_width": null,
      "object_fit": null,
      "object_position": null,
      "order": null,
      "overflow": null,
      "overflow_x": null,
      "overflow_y": null,
      "padding": null,
      "right": null,
      "top": null,
      "visibility": null,
      "width": null
     }
    },
    "e4fef66861eb4fb58316e4f87401bf66": {
     "model_module": "@jupyter-widgets/controls",
     "model_module_version": "1.5.0",
     "model_name": "DescriptionStyleModel",
     "state": {
      "_model_module": "@jupyter-widgets/controls",
      "_model_module_version": "1.5.0",
      "_model_name": "DescriptionStyleModel",
      "_view_count": null,
      "_view_module": "@jupyter-widgets/base",
      "_view_module_version": "1.2.0",
      "_view_name": "StyleView",
      "description_width": ""
     }
    },
    "e8a633b264ba474eba391de197949561": {
     "model_module": "@jupyter-widgets/base",
     "model_module_version": "1.2.0",
     "model_name": "LayoutModel",
     "state": {
      "_model_module": "@jupyter-widgets/base",
      "_model_module_version": "1.2.0",
      "_model_name": "LayoutModel",
      "_view_count": null,
      "_view_module": "@jupyter-widgets/base",
      "_view_module_version": "1.2.0",
      "_view_name": "LayoutView",
      "align_content": null,
      "align_items": null,
      "align_self": null,
      "border": null,
      "bottom": null,
      "display": null,
      "flex": null,
      "flex_flow": null,
      "grid_area": null,
      "grid_auto_columns": null,
      "grid_auto_flow": null,
      "grid_auto_rows": null,
      "grid_column": null,
      "grid_gap": null,
      "grid_row": null,
      "grid_template_areas": null,
      "grid_template_columns": null,
      "grid_template_rows": null,
      "height": null,
      "justify_content": null,
      "justify_items": null,
      "left": null,
      "margin": null,
      "max_height": null,
      "max_width": null,
      "min_height": null,
      "min_width": null,
      "object_fit": null,
      "object_position": null,
      "order": null,
      "overflow": null,
      "overflow_x": null,
      "overflow_y": null,
      "padding": null,
      "right": null,
      "top": null,
      "visibility": null,
      "width": null
     }
    },
    "ea698506656440939c58e7517b4f5290": {
     "model_module": "@jupyter-widgets/controls",
     "model_module_version": "1.5.0",
     "model_name": "ProgressStyleModel",
     "state": {
      "_model_module": "@jupyter-widgets/controls",
      "_model_module_version": "1.5.0",
      "_model_name": "ProgressStyleModel",
      "_view_count": null,
      "_view_module": "@jupyter-widgets/base",
      "_view_module_version": "1.2.0",
      "_view_name": "StyleView",
      "bar_color": null,
      "description_width": ""
     }
    },
    "fee71ea8e25645d0a1c5bb080388c3e4": {
     "model_module": "@jupyter-widgets/controls",
     "model_module_version": "1.5.0",
     "model_name": "FloatProgressModel",
     "state": {
      "_dom_classes": [],
      "_model_module": "@jupyter-widgets/controls",
      "_model_module_version": "1.5.0",
      "_model_name": "FloatProgressModel",
      "_view_count": null,
      "_view_module": "@jupyter-widgets/controls",
      "_view_module_version": "1.5.0",
      "_view_name": "ProgressView",
      "bar_style": "success",
      "description": "",
      "description_tooltip": null,
      "layout": "IPY_MODEL_d7220988b4614a0483ee16c94a81a94b",
      "max": 10,
      "min": 0,
      "orientation": "horizontal",
      "style": "IPY_MODEL_ea698506656440939c58e7517b4f5290",
      "value": 10
     }
    }
   }
  }
 },
 "nbformat": 4,
 "nbformat_minor": 1
}
